{
 "cells": [
  {
   "cell_type": "code",
   "execution_count": 1,
   "metadata": {},
   "outputs": [],
   "source": [
    "from parameters import * \n"
   ]
  },
  {
   "cell_type": "code",
   "execution_count": 8,
   "metadata": {},
   "outputs": [],
   "source": [
    "data = Parameters(\"data/case_study_data.json\")"
   ]
  },
  {
   "cell_type": "code",
   "execution_count": 10,
   "metadata": {},
   "outputs": [
    {
     "data": {
      "text/plain": [
       "{(0, 0),\n",
       " (0, 1),\n",
       " (0, 2),\n",
       " (0, 3),\n",
       " (0, 4),\n",
       " (0, 5),\n",
       " (0, 6),\n",
       " (1, 0),\n",
       " (1, 1),\n",
       " (1, 2),\n",
       " (1, 3),\n",
       " (1, 4),\n",
       " (1, 5),\n",
       " (1, 6),\n",
       " (2, 0),\n",
       " (2, 1),\n",
       " (2, 2),\n",
       " (2, 3),\n",
       " (2, 4),\n",
       " (2, 5),\n",
       " (2, 6),\n",
       " (3, 0),\n",
       " (3, 1),\n",
       " (3, 2),\n",
       " (3, 3),\n",
       " (3, 4),\n",
       " (3, 5),\n",
       " (3, 6),\n",
       " (4, 0),\n",
       " (4, 1),\n",
       " (4, 2),\n",
       " (4, 3),\n",
       " (4, 4),\n",
       " (4, 5),\n",
       " (4, 6),\n",
       " (5, 0),\n",
       " (5, 1),\n",
       " (5, 2),\n",
       " (5, 3),\n",
       " (5, 4),\n",
       " (5, 5),\n",
       " (5, 6),\n",
       " (6, 0),\n",
       " (6, 1),\n",
       " (6, 2),\n",
       " (6, 3),\n",
       " (6, 4),\n",
       " (6, 5),\n",
       " (6, 6),\n",
       " (7, 0),\n",
       " (7, 1),\n",
       " (7, 2),\n",
       " (7, 3),\n",
       " (7, 4),\n",
       " (7, 5),\n",
       " (7, 6),\n",
       " (8, 0),\n",
       " (8, 1),\n",
       " (8, 2),\n",
       " (8, 3),\n",
       " (8, 4),\n",
       " (8, 5),\n",
       " (8, 6),\n",
       " (9, 0),\n",
       " (9, 1),\n",
       " (9, 2),\n",
       " (9, 3),\n",
       " (9, 4),\n",
       " (9, 5),\n",
       " (9, 6),\n",
       " (10, 0),\n",
       " (10, 1),\n",
       " (10, 2),\n",
       " (10, 3),\n",
       " (10, 4),\n",
       " (10, 5),\n",
       " (10, 6),\n",
       " (11, 0),\n",
       " (11, 1),\n",
       " (11, 2),\n",
       " (11, 3),\n",
       " (11, 4),\n",
       " (11, 5),\n",
       " (11, 6),\n",
       " (12, 0),\n",
       " (12, 1),\n",
       " (12, 2),\n",
       " (12, 3),\n",
       " (12, 4),\n",
       " (12, 5),\n",
       " (12, 6),\n",
       " (13, 0),\n",
       " (13, 1),\n",
       " (13, 2),\n",
       " (13, 3),\n",
       " (13, 4),\n",
       " (13, 5),\n",
       " (13, 6)}"
      ]
     },
     "execution_count": 10,
     "metadata": {},
     "output_type": "execute_result"
    }
   ],
   "source": [
    "data.big_omega[0][4]"
   ]
  },
  {
   "cell_type": "code",
   "execution_count": 4,
   "metadata": {},
   "outputs": [
    {
     "name": "stdout",
     "output_type": "stream",
     "text": [
      "{(7, 26), (12, 25), (5, 28), (9, 26), (11, 23), (13, 17), (10, 27), (13, 26), (7, 28), (12, 18), (12, 27), (9, 28), (10, 20), (13, 19), (10, 29), (13, 28), (12, 20), (12, 29), (3, 26), (4, 25), (9, 21), (8, 25), (10, 22), (13, 21), (1, 28), (2, 27), (7, 23), (6, 27), (12, 22), (3, 28), (5, 25), (4, 27), (8, 27), (10, 24), (13, 23), (2, 29), (6, 29), (12, 24), (4, 29), (13, 16), (8, 29), (10, 26), (11, 25), (12, 17), (12, 26), (8, 22), (10, 19), (13, 18), (11, 18), (10, 28), (11, 27), (6, 24), (12, 19), (12, 28), (8, 24), (10, 21), (9, 23), (11, 20), (0, 29), (11, 29), (6, 26), (7, 25), (12, 21), (4, 26), (5, 27), (8, 26), (10, 23), (9, 25), (11, 22), (2, 28), (13, 25), (6, 28), (7, 27), (12, 23), (4, 28), (5, 29), (8, 28), (10, 25), (9, 27), (11, 24), (13, 27), (7, 29), (8, 21), (9, 20), (9, 29), (11, 26), (13, 20), (13, 29), (6, 23), (7, 22), (3, 27), (5, 24), (8, 23), (9, 22), (11, 19), (11, 28), (13, 22), (1, 29), (6, 25), (7, 24), (3, 29), (5, 26), (9, 24), (11, 21), (13, 24)}\n",
      "105\n"
     ]
    }
   ],
   "source": [
    "def find_active_tuples(t):\n",
    "    active_tuples = set()\n",
    "    for t_ in range(30):\n",
    "        for k in range(14):\n",
    "            if t_ <= t <= t_ + k:\n",
    "                active_tuples.add((k, t_))\n",
    "    return active_tuples\n",
    "\n",
    "# Example usage:\n",
    "t = 29\n",
    "\n",
    "active_tuples = find_active_tuples(t)\n",
    "print(active_tuples)\n",
    "print(len(active_tuples))"
   ]
  },
  {
   "cell_type": "code",
   "execution_count": 5,
   "metadata": {},
   "outputs": [
    {
     "name": "stdout",
     "output_type": "stream",
     "text": [
      "{(5, 4), (8, 0), (0, 8), (6, 2), (7, 1), (4, 5), (3, 6), (5, 3), (2, 7), (1, 8), (3, 5), (4, 4), (9, 0), (8, 1), (0, 9), (1, 7), (2, 6), (7, 2), (6, 3)}\n",
      "19\n"
     ]
    }
   ],
   "source": [
    "def find_setup_tuples(t):\n",
    "    setup_tuples = set()\n",
    "    for t_ in range(30):\n",
    "        for k in range(14):\n",
    "            if t in {t_ + k + 1, t_ + k + 2}:\n",
    "               setup_tuples.add((k, t_))\n",
    "    return setup_tuples\n",
    "\n",
    "# Example usage:\n",
    "t = 10\n",
    "\n",
    "setup_tuples = find_setup_tuples(t)\n",
    "print(setup_tuples)\n",
    "print(len(setup_tuples))"
   ]
  },
  {
   "cell_type": "code",
   "execution_count": 6,
   "metadata": {},
   "outputs": [
    {
     "name": "stdout",
     "output_type": "stream",
     "text": [
      "{1, 2, 3, 4, 5, 6, 7} {6, 7, 8, 9, 10, 11, 12}\n"
     ]
    }
   ],
   "source": [
    "t = 1 \n",
    "k = 4 \n",
    "\n",
    "starting_set = {t + i for i in range(k + 3)}\n",
    "starting_set2 = {6 + i for i in range(k + 3)}\n",
    "print(starting_set,starting_set2)\n",
    "\n",
    "if not starting_set & starting_set2: \n",
    "    print(\"no overlap\")"
   ]
  },
  {
   "cell_type": "code",
   "execution_count": 7,
   "metadata": {},
   "outputs": [],
   "source": [
    "t = 1 \n",
    "k = 4 \n",
    "\n",
    "starting_set = {t + i for i in range(k + 3)}\n",
    "incompatible_tuples = set()\n",
    "for t_ in range(30):\n",
    "    for k_ in range(14):\n",
    "            new_set = {t_ + i_ for i_ in range(k_ + 3)}\n",
    "            if starting_set & starting_set2:\n",
    "                incompatible_tuples.add((k_, t_))"
   ]
  }
 ],
 "metadata": {
  "kernelspec": {
   "display_name": "work",
   "language": "python",
   "name": "python3"
  },
  "language_info": {
   "codemirror_mode": {
    "name": "ipython",
    "version": 3
   },
   "file_extension": ".py",
   "mimetype": "text/x-python",
   "name": "python",
   "nbconvert_exporter": "python",
   "pygments_lexer": "ipython3",
   "version": "3.11.4"
  }
 },
 "nbformat": 4,
 "nbformat_minor": 2
}
