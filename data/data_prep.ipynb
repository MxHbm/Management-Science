{
 "cells": [
  {
   "cell_type": "markdown",
   "metadata": {},
   "source": [
    "### Berechnung Angebot und Nachfrage nach Milch und Milchprodukten\n",
    "\n",
    "Nachfragemodellierung\n",
    "- Gesamtbevölkerung 84,37 Mil: https://de.statista.com/statistik/daten/studie/2861/umfrage/entwicklung-der-gesamtbevoelkerung-deutschlands/\n",
    "- BEvölkerung Sachsen 4,09 Millionen Einwohner: https://de.statista.com/statistik/daten/studie/155167/umfrage/entwicklung-der-bevoelkerung-von-sachsen-seit-1961/\n",
    "\n",
    "Quelle: https://milchindustrie.de/wp-content/uploads/2023/09/ZahlenDatenFakten_2023_neu.pdf"
   ]
  },
  {
   "cell_type": "markdown",
   "metadata": {},
   "source": [
    "| | Milchpulver | Konsummilch | Butter | Käse |\n",
    "| --- | --- | --- | --- | --- |\n",
    "| Herstellungsmenge (T Tonnen) | 630 | 7300 | 480 | 2670 |"
   ]
  },
  {
   "cell_type": "code",
   "execution_count": 7,
   "metadata": {},
   "outputs": [
    {
     "data": {
      "text/plain": [
       "[[2036, 2545, 3818],\n",
       " [17694, 29490, 35388],\n",
       " [1357, 1939, 3878],\n",
       " [6472, 10786, 12943],\n",
       " [62660, 125319, 250638]]"
      ]
     },
     "execution_count": 7,
     "metadata": {},
     "output_type": "execute_result"
    }
   ],
   "source": [
    "anteil = 4.09 / 84.37\n",
    "anteil_jahr = 30 / 360\n",
    "products = [630, 7300, 480, 2670]\n",
    "products_right = [int(round(prod * 1000 * anteil * anteil_jahr,0)) for prod in products]\n",
    "\n",
    "milchanlieferung = round((31021.6 * 1000) * (30/360) * anteil) #Quelle https://milchindustrie.de/wp-content/uploads/2023/09/ZahlenDatenFakten_2023_neu.pdf\n",
    "# milchanlieferung = round((1.7 * 10**6) * (30/360)) #1,7 Milliarden kg  Sachsenmilch Webiste jährlich prod menge \n",
    "\n",
    "products_right.append(milchanlieferung)\n",
    "\n",
    "\n",
    "# Gegebene Liste mit Sublisten\n",
    "original_demand = [\n",
    "    [6400, 8000, 12000],\n",
    "    [600, 1000, 1200],\n",
    "    [2800, 4000, 8000],\n",
    "    [300, 500, 600],\n",
    "    [862.5, 1725, 3450]\n",
    "]\n",
    "\n",
    "# Berechnung der prozentualen Schwankungen\n",
    "percent_changes = []\n",
    "\n",
    "for sublist in original_demand:\n",
    "    original_value = sublist[1]  # Das mittlere Produkt entspricht dem Original\n",
    "    changes = []\n",
    "    for value in sublist:\n",
    "        percent_change = ((value - original_value) / original_value) * 100\n",
    "        changes.append(percent_change)\n",
    "    percent_changes.append(changes)\n",
    "\n",
    "new_values = []\n",
    "\n",
    "for p in range(len(products_right)):\n",
    "    sublist = []\n",
    "    for change in percent_changes[p]:\n",
    "        sublist.append(round(products_right[p] * (1 + change / 100)))\n",
    "\n",
    "    new_values.append(sublist)\n",
    "\n",
    "new_values"
   ]
  },
  {
   "cell_type": "markdown",
   "metadata": {},
   "source": [
    "### Festlegung: \n",
    "\n",
    "- 4 Produkltfamilien(Powdered Milk, Milk, Butter, Cheese)\n",
    "- 8 Produkte (Laktose, Magermilchpulver, 1.5 % Milch UHT, 3.5 % Milch UHT, Süßrahmbutter, Butter mild gesäuert, Gouda, Emmentaler)\n",
    "- 2 Fresh and 2 Dry! \n",
    "- Jede Produltfamilie besitzt eigene Fertigungsfläche und Lagerung dort \n",
    "- 3 Distribution Centers \n",
    "- Ein Monat Planungszeitraum \n",
    "\n",
    "\"T_No\": 30,\n",
    "\"F_No\": 4,\n",
    "\"FT_No\": 2,\n",
    "\"MP_No\": 4,\n",
    "\"CT_No\": 2,\n",
    "\"L_No\": 4,\n",
    "\"P_No\": 8,"
   ]
  },
  {
   "cell_type": "markdown",
   "metadata": {},
   "source": [
    "### Annahme rr\n",
    "\n",
    "es werden die gleichen verhältnisse, wie im paper angenommen:\n"
   ]
  },
  {
   "cell_type": "code",
   "execution_count": 13,
   "metadata": {},
   "outputs": [
    {
     "data": {
      "text/plain": [
       "[950, 135, 0, 0]"
      ]
     },
     "execution_count": 13,
     "metadata": {},
     "output_type": "execute_result"
    }
   ],
   "source": [
    "rr_old = [3.75,1, 0, 0]\n",
    "r_old = [12.5, 3.425, 5, 12]\n",
    "\n",
    "verhältnisse = [rr_old[i]/r_old[i] for i in range(len(rr_old))]\n",
    "\n",
    "r_new = [3165, 464, 6460, 5063]\n",
    "rr_new = [round(r_new[i] * verhältnisse[i]) for i in range(len(r_new))]\n",
    "\n",
    "rr_new"
   ]
  },
  {
   "cell_type": "markdown",
   "metadata": {},
   "source": [
    "### Kalkulation Produktionskapazitäten\n",
    "\n",
    "Annahme, dass Molkereibetrieb alle nachgefagten Mengen im Base Case prodzieren könnte und noch 30% mehr! Bis auf milchpulver produktion 3 Schichten Verfügbar! "
   ]
  },
  {
   "cell_type": "code",
   "execution_count": 22,
   "metadata": {},
   "outputs": [
    {
     "name": "stdout",
     "output_type": "stream",
     "text": [
      "Sc_new:  [0, 426, 28, 156]\n",
      "Cmax_new:  [110, 1278, 84, 467]\n"
     ]
    }
   ],
   "source": [
    "produktion_monthly = products_right[:4]\n",
    "\n",
    "cmax_new = [round(prod*(1/30)*1.30) for prod in produktion_monthly]\n",
    "\n",
    "sc_new = [0] + [round(prod/3) for prod in cmax_new[1:]]\n",
    "\n",
    "print(\"Cmax_new: \", cmax_new)\n",
    "print(\"Sc_new: \", sc_new)"
   ]
  },
  {
   "cell_type": "markdown",
   "metadata": {},
   "source": [
    "### Überarbeitete Dateneingabe\n",
    "\n",
    "```python\n",
    "{\n",
    "    \"T_No\": 30,\n",
    "    \"F_No\": 4,\n",
    "    \"FT_No\": 2,\n",
    "    \"MP_No\": 4,\n",
    "    \"CT_No\": 2,\n",
    "    \"L_No\": 3,\n",
    "    \"fty\": [0,0,1,1], #Stays the same \n",
    "    \"cty\": [0,1,1,1], #Stays the same \n",
    "    \"fpr\": [0,1,2,3], #Stays the same \n",
    "    \"fy\": [0.12,0.975, 0.25, 0.11], #Adapted to butter value\n",
    "    \"rsc\": 451.6, # Aus Paper\n",
    "    \"roc\": 500, #Assumption that costs are increasing\n",
    "    \"el\": [24,24,24,24], \n",
    "    \"tau\": [1,1,1,1], \n",
    "    \"i_0\": [[0,0,0,0,0,0,0,0,0],[0,0,0,0,0,0,0,0,0],[0,0,0,0,0,0,0,0,0],[0,0,0,0,0,0,0,0,0]],\n",
    "    \"i_0_f\": [0,0,0,0],\n",
    "    \"tl_min\": 12,\n",
    "    \"tl_max\": 24,\n",
    "    \"r0\": 0, \n",
    "    \"r_max\": 2000,\n",
    "    \"dmax\": [15,100,100,100],\n",
    "    \"cmin\": [1, 1, 1, 1],\n",
    "    \"cmax\": [110, 1278, 84, 467], #Adapted to given values\n",
    "    \"alpha\": [2,0,0,0],\n",
    "    \"ost\": [0, 0, 0, 0],\n",
    "    \"wp\": [[100, 0, 0, 0, 0, 0, 0, 0, 0, 0, 0, 0, 0, 0, 0, 0, 0, 0, 0, 0, 0, 0, 0, 0, 0, 0, 0, 0, 0, 0], [0, 0, 0, 0, 0, 0, 0, 0, 0, 0, 0, 0, 0, 0, 0, 0, 0, 0, 0, 0, 0, 0, 0, 0, 0, 0, 0, 0, 0, 0], [20, 15, 10, 0, 0, 0, 0, 0, 0, 0, 0, 0, 0, 0, 0, 0, 0, 0, 0, 0, 0, 0, 0, 0, 0, 0, 0, 0, 0, 0],[10,20,15, 0, 0, 0, 0, 0, 0, 0, 0, 0, 0, 0, 0, 0, 0, 0, 0, 0, 0, 0, 0, 0, 0, 0, 0, 0, 0, 0]],\n",
    "    \"el_min\": [0,0,0,0],\n",
    "    \"el_max\": [1000,1000,1000,1000],\n",
    "    \"is\": [0, 0.95, 0.95, 0.95], #Stays the same \n",
    "    \"omega_fw\": [40, 40, 5, 10], #Stays the same \n",
    "    \"omega_dc\": [100, 100, 7, 14], #Stays the same \n",
    "    \"rr\": [950, 135, 0, 0], # Calculated from all the other values cumulated\n",
    "    \"r\": [3165, 464, 6460, 5063], # Own Calculation\n",
    "    \"re\": [3115, 414, 6410, 5013], # Own assumption\n",
    "    \"imax\": [[1000,1000],[1000,1000],[1000,1000],[1000,1000]] # Constant values for all DCs\n",
    "    \"zmax\": [1,3,3,3], #Stays the same \n",
    "    \"sc\": [0, 426, 28, 156], #Adapted to given values\n",
    "    \"beta\": [0.1,0,0,0], #Stays the same \n",
    "    \"sigma\": [1,0,0,4], #Stays the same \n",
    "    \"iwip0\": [0, 0, 0, 0],\n",
    "    \"tc\": [[242,213], [178,157], [270,237], [39,39]], #Own Calculation \n",
    "    \"sco\": 20000, #Own assumption\n",
    "    \"K\": 1,\n",
    "    \"epsilon\": 0.001,\n",
    "    \"N\": 10000,\n",
    "    \"demand_supply\": [[2036, 2545, 3818], [17694, 29490, 35388], [1357, 1939, 3878], [6472, 10786, 12943], [62660, 125319, 250638]],\n",
    "    \"probabilies\": [[0.4, 0.35, 0.25], [0.25, 0.35, 0.4], [0.4, 0.3, 0.3], [0.3, 0.4, 0.3], [0.5, 0.15, 0.35]]\n",
    "}\n"
   ]
  },
  {
   "cell_type": "code",
   "execution_count": 14,
   "metadata": {},
   "outputs": [
    {
     "data": {
      "text/plain": [
       "4177.3"
      ]
     },
     "execution_count": 14,
     "metadata": {},
     "output_type": "execute_result"
    }
   ],
   "source": [
    "125319 / 30"
   ]
  },
  {
   "cell_type": "markdown",
   "metadata": {},
   "source": [
    "### Export prices"
   ]
  },
  {
   "cell_type": "code",
   "execution_count": 9,
   "metadata": {},
   "outputs": [
    {
     "data": {
      "text/plain": [
       "[3115, 414, 6410, 5013]"
      ]
     },
     "execution_count": 9,
     "metadata": {},
     "output_type": "execute_result"
    }
   ],
   "source": [
    "[element -50 for element in [3165, 464, 6460, 5063]]"
   ]
  },
  {
   "cell_type": "code",
   "execution_count": 23,
   "metadata": {},
   "outputs": [
    {
     "data": {
      "text/plain": [
       "[2430, 3800, 410, 418.5, 6270, 6550, 4125, 5900]"
      ]
     },
     "execution_count": 23,
     "metadata": {},
     "output_type": "execute_result"
    }
   ],
   "source": [
    "[element -50 for element in [2480, 3850,460, 468.5,6320, 6600, 4175, 5950]]"
   ]
  }
 ],
 "metadata": {
  "kernelspec": {
   "display_name": "work",
   "language": "python",
   "name": "python3"
  },
  "language_info": {
   "codemirror_mode": {
    "name": "ipython",
    "version": 3
   },
   "file_extension": ".py",
   "mimetype": "text/x-python",
   "name": "python",
   "nbconvert_exporter": "python",
   "pygments_lexer": "ipython3",
   "version": "3.11.4"
  }
 },
 "nbformat": 4,
 "nbformat_minor": 2
}
