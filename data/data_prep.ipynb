{
 "cells": [
  {
   "cell_type": "markdown",
   "metadata": {},
   "source": [
    "Nachfragemodellierung\n",
    "- Gesamtbevölkerung 84,37 Mil: https://de.statista.com/statistik/daten/studie/2861/umfrage/entwicklung-der-gesamtbevoelkerung-deutschlands/\n",
    "- BEvölkerung Sachsen 4,09 Millionen Einwohner: https://de.statista.com/statistik/daten/studie/155167/umfrage/entwicklung-der-bevoelkerung-von-sachsen-seit-1961/\n",
    "\n",
    "Quelle: https://milchindustrie.de/wp-content/uploads/2023/09/ZahlenDatenFakten_2023_neu.pdf"
   ]
  },
  {
   "cell_type": "markdown",
   "metadata": {},
   "source": [
    "| | Milchpulver | Konsummilch | Butter | Käse |\n",
    "| --- | --- | --- | --- | --- |\n",
    "| Herstellungsmenge (T Tonnen) | 630 | 7300 | 480 | 2670 |"
   ]
  },
  {
   "cell_type": "code",
   "execution_count": 6,
   "metadata": {},
   "outputs": [
    {
     "data": {
      "text/plain": [
       "[2545, 29490, 1939, 10786]"
      ]
     },
     "execution_count": 6,
     "metadata": {},
     "output_type": "execute_result"
    }
   ],
   "source": [
    "anteil = 4.09 / 84.37\n",
    "anteil_jahr = 30 / 360\n",
    "products = [630, 7300, 480, 2670]\n",
    "products_right = [int(round(prod * 1000 * anteil * anteil_jahr,0)) for prod in products]\n",
    "\n",
    "products_right"
   ]
  },
  {
   "cell_type": "code",
   "execution_count": null,
   "metadata": {},
   "outputs": [],
   "source": [
    "#1,7 Milliarden kg  Sachsenmilch Webiste jährlich prod menge \n",
    "\n"
   ]
  },
  {
   "cell_type": "code",
   "execution_count": 25,
   "metadata": {},
   "outputs": [],
   "source": [
    "#milchanlieferung = round((31021.6 * 1000) * (30/360) * anteil)\n",
    "milchanlieferung = round((1.7 * 10**6) * (30/360))"
   ]
  },
  {
   "cell_type": "code",
   "execution_count": 26,
   "metadata": {},
   "outputs": [
    {
     "data": {
      "text/plain": [
       "141667"
      ]
     },
     "execution_count": 26,
     "metadata": {},
     "output_type": "execute_result"
    }
   ],
   "source": [
    "milchanlieferung"
   ]
  },
  {
   "cell_type": "code",
   "execution_count": null,
   "metadata": {},
   "outputs": [],
   "source": []
  },
  {
   "cell_type": "code",
   "execution_count": 1,
   "metadata": {},
   "outputs": [
    {
     "name": "stdout",
     "output_type": "stream",
     "text": [
      "[[-20.0, 0.0, 50.0], [-40.0, 0.0, 20.0], [-30.0, 0.0, 100.0], [-40.0, 0.0, 20.0], [-50.0, 0.0, 100.0]]\n"
     ]
    }
   ],
   "source": [
    "import pandas as pd\n",
    "\n",
    "# Gegebene Liste mit Sublisten\n",
    "values_list = [\n",
    "    [6400, 8000, 12000],\n",
    "    [600, 1000, 1200],\n",
    "    [2800, 4000, 8000],\n",
    "    [300, 500, 600],\n",
    "    [862.5, 1725, 3450]\n",
    "]\n",
    "\n",
    "# Berechnung der prozentualen Schwankungen\n",
    "percent_changes = []\n",
    "\n",
    "for sublist in values_list:\n",
    "    original_value = sublist[1]  # Das mittlere Produkt entspricht dem Original\n",
    "    changes = []\n",
    "    for value in sublist:\n",
    "        percent_change = ((value - original_value) / original_value) * 100\n",
    "        changes.append(percent_change)\n",
    "    percent_changes.append(changes)\n",
    "\n",
    "print(percent_changes)\n",
    "\n",
    "# Erstellen eines DataFrames für eine bessere Darstellung\n",
    "#df_changes = pd.DataFrame(percent_changes, columns=[\"Schwankung 1 (%)\", \"Original (%)\", \"Schwankung 3 (%)\"])\n",
    "\n",
    "# DataFrame anzeigen\n",
    "#print(df_changes)\n"
   ]
  },
  {
   "cell_type": "code",
   "execution_count": 15,
   "metadata": {},
   "outputs": [],
   "source": [
    "products_right.append(milchanlieferung)"
   ]
  },
  {
   "cell_type": "code",
   "execution_count": 20,
   "metadata": {},
   "outputs": [
    {
     "data": {
      "text/plain": [
       "[2545, 29490, 1939, 10786, 125319]"
      ]
     },
     "execution_count": 20,
     "metadata": {},
     "output_type": "execute_result"
    }
   ],
   "source": [
    "products_right"
   ]
  },
  {
   "cell_type": "code",
   "execution_count": 24,
   "metadata": {},
   "outputs": [
    {
     "data": {
      "text/plain": [
       "[[2036, 2545, 3818],\n",
       " [17694, 29490, 35388],\n",
       " [1357, 1939, 3878],\n",
       " [6472, 10786, 12943],\n",
       " [62660, 125319, 250638]]"
      ]
     },
     "execution_count": 24,
     "metadata": {},
     "output_type": "execute_result"
    }
   ],
   "source": [
    "new_values = []\n",
    "\n",
    "for p in range(len(products_right)):\n",
    "    sublist = []\n",
    "    for change in percent_changes[p]:\n",
    "        sublist.append(round(products_right[p] * (1 + change / 100)))\n",
    "\n",
    "    new_values.append(sublist)\n",
    "\n",
    "new_values"
   ]
  },
  {
   "cell_type": "code",
   "execution_count": null,
   "metadata": {},
   "outputs": [],
   "source": []
  },
  {
   "cell_type": "markdown",
   "metadata": {},
   "source": [
    "{\n",
    "    \"T_No\": 30,\n",
    "    \"F_No\": 4,\n",
    "    \"FT_No\": 2,\n",
    "    \"MP_No\": 4,\n",
    "    \"CT_No\": 2,\n",
    "    \"L_No\": 9,\n",
    "    \"fty\": [0,0,1,1],\n",
    "    \"cty\": [0,1,1,1],\n",
    "    \"fpr\": [0,1,2,3],\n",
    "    \"fy\": [0.12,0.975, 0.9, 0.11],\n",
    "    \"rsc\": 6,\n",
    "    \"roc\": 12,\n",
    "    \"el\": [25,25,25,25],\n",
    "    \"tau\": [2,1,1,2,0,1,0,2,1],\n",
    "    \"i_0\": [[0,0,0,0,0,0,0,0,0],[0,0,0,0,0,0,0,0,0],[0,0,0,0,0,0,0,0,0],[0,0,0,0,0,0,0,0,0]],\n",
    "    \"i_0_f\": [0,0,0,0],\n",
    "    \"tl_min\": 4,\n",
    "    \"tl_max\": 8,\n",
    "    \"r0\": 0,\n",
    "    \"r_max\": 200,\n",
    "    \"dmax\": [15,100,100,100],\n",
    "    \"cmin\": [1, 1, 1, 1],\n",
    "    \"cmax\": [120,330,450,51],\n",
    "    \"alpha\": [2,0,0,0],\n",
    "    \"ost\": [0, 0, 0, 0],\n",
    "    \"wp\": [[100, 0, 0, 0, 0, 0, 0, 0, 0, 0, 0, 0, 0, 0, 0, 0, 0, 0, 0, 0, 0, 0, 0, 0, 0, 0, 0, 0, 0, 0], [0, 0, 0, 0, 0, 0, 0, 0, 0, 0, 0, 0, 0, 0, 0, 0, 0, 0, 0, 0, 0, 0, 0, 0, 0, 0, 0, 0, 0, 0], [20, 15, 10, 0, 0, 0, 0, 0, 0, 0, 0, 0, 0, 0, 0, 0, 0, 0, 0, 0, 0, 0, 0, 0, 0, 0, 0, 0, 0, 0],[10,20,15, 0, 0, 0, 0, 0, 0, 0, 0, 0, 0, 0, 0, 0, 0, 0, 0, 0, 0, 0, 0, 0, 0, 0, 0, 0, 0, 0]],\n",
    "    \"el_min\": [0,0,0,0],\n",
    "    \"el_max\": [120,0,0,0],\n",
    "    \"is\": [0, 0.95, 0.95, 0.95], NACHSCHAUEN + QUELLEN ORDENTLICH BEARBEITEN \n",
    "    \"omega_fw\": [40, 40, 5, 10],\n",
    "    \"omega_dc\": [100, 100, 7, 14],\n",
    "    \"rr\": [3.75, 1, 0, 0], NACHSCHAUEN + QUELLEN ORDENTLICH BEARBEITEN \n",
    "    \"r\": [12.5, 20,20, 12], NACHSCHAUEN + QUELLEN ORDENTLICH BEARBEITEN \n",
    "    \"re\": [5, 0, 0, 0], NACHSCHAUEN + QUELLEN ORDENTLICH BEARBEITEN \n",
    "    \"imax\": [[12,10], [68, 114], [16, 35], [16,40],[9, 27],[31,54],[20, 81],[20,58],[58,195]], NACHSCHAUEN + QUELLEN ORDENTLICH BEARBEITEN \n",
    "    \"zmax\": [1,3,3,3], \n",
    "    \"sc\": [0,110,150,17],NACHSCHAUEN + QUELLEN ORDENTLICH BEARBEITEN \n",
    "    \"beta\": [0.1,0,0,0], NACHSCHAUEN + QUELLEN ORDENTLICH BEARBEITEN \n",
    "    \"sigma\": [1,0,0,4], NACHSCHAUEN + QUELLEN ORDENTLICH BEARBEITEN \n",
    "    \"iwip0\": [0, 0, 0, 0],\n",
    "    \"tc\": [[15.641,13.034], [4.956, 4.13], [10.332,8.61], [14.818, 12.348], [0.067, 0.056],[14.364, 11.97], [4.032, 3.36], [21.638,18.032],[9.021,7.518]], NACHSCHAUEN + QUELLEN ORDENTLICH BEARBEITEN \n",
    "    \"sco\": 20, NACHSCHAUEN + QUELLEN ORDENTLICH BEARBEITEN \n",
    "    \"K\": 1,\n",
    "    \"epsilon\": 0.001,\n",
    "    \"N\": 10000,\n",
    "    \"demand_supply\": [[6400, 8000, 12000],[600, 1000, 1200],[2800, 4000, 8000],[300, 500, 600],[862.5, 1725, 3450]],\n",
    "    \"probabilies\": [[0.4, 0.35, 0.25], [0.25, 0.35, 0.4], [0.4, 0.3, 0.3], [0.3, 0.4, 0.3], [0.5, 0.15, 0.35]]\n",
    "}"
   ]
  },
  {
   "cell_type": "markdown",
   "metadata": {},
   "source": [
    "Festlegung: \n",
    "\n",
    "4 Produkltfamilien(Powdered Milk, UHT, Joghurt, Cheese)\n",
    "8 Produkte (Babymilchpulver, Milchpulver, 1.5 % Milch UHT, 3.5 % Milch UHT, Griechischer Joghurt)\n",
    "2 Fresh and 2 Dry! \n",
    "Jede Produltfamilie besitzt eigene Fertigungsfläche und Lagerung dort \n",
    "3 Distribution Centers \n",
    "Ein Monat Planungszeitraum \n",
    "\n",
    "\"T_No\": 30,\n",
    "\"F_No\": 4,\n",
    "\"FT_No\": 2,\n",
    "\"MP_No\": 4,\n",
    "\"CT_No\": 2,\n",
    "\"L_No\": 9,\n",
    "\"P_No\": 8,"
   ]
  },
  {
   "cell_type": "markdown",
   "metadata": {},
   "source": [
    "Gleichlassen von: \n",
    "\"fty\": [0,0,1,1],\n",
    "\"cty\": [0,1,1,1],\n",
    "\"fpr\": [0,1,2,3],"
   ]
  },
  {
   "cell_type": "markdown",
   "metadata": {},
   "source": [
    "Bitte realistische Werte nachschauen: --> Wert unter 0.1 macht keinen SINN !! \n",
    "    \"fy\": [0.12,0.975, 0.9, 0.11],\n",
    "\n",
    "QUELLE: \n",
    "QUELLE: "
   ]
  },
  {
   "cell_type": "markdown",
   "metadata": {},
   "source": [
    "Bitte realistische Werte für Kosten und \n",
    "\n",
    "\"rsc\": 6,\n",
    "\"roc\": 12,\n",
    "\n",
    "QUELLE: \n",
    "QUELLE: "
   ]
  },
  {
   "cell_type": "markdown",
   "metadata": {},
   "source": [
    "Fahrzeiten 1 Tag unterschied für jeden Transport \n",
    "\"tau\": [1,1,1],"
   ]
  },
  {
   "cell_type": "markdown",
   "metadata": {},
   "source": [
    " Anfangsbestände unberührt lassen !!    \n",
    "    \"i_0\": [[0,0,0,0,0,0,0,0,0],[0,0,0,0,0,0,0,0,0],[0,0,0,0,0,0,0,0,0],[0,0,0,0,0,0,0,0,0]],\n",
    "    \"i_0_f\": [0,0,0,0],\n",
    "    \"r0\": 0,\n",
    "     \"wp\": [[100, 0, 0, 0, 0, 0, 0, 0, 0, 0, 0, 0, 0, 0, 0, 0, 0, 0, 0, 0, 0, 0, 0, 0, 0, 0, 0, 0, 0, 0], [0, 0, 0, 0, 0, 0, 0, 0, 0, 0, 0, 0, 0, 0, 0, 0, 0, 0, 0, 0, 0, 0, 0, 0, 0, 0, 0, 0, 0, 0], [20, 15, 10, 0, 0, 0, 0, 0, 0, 0, 0, 0, 0, 0, 0, 0, 0, 0, 0, 0, 0, 0, 0, 0, 0, 0, 0, 0, 0, 0],[10,20,15, 0, 0, 0, 0, 0, 0, 0, 0, 0, 0, 0, 0, 0, 0, 0, 0, 0, 0, 0, 0, 0, 0, 0, 0, 0, 0, 0]],"
   ]
  },
  {
   "cell_type": "markdown",
   "metadata": {},
   "source": [
    "Export eigentlich unbegrenzt, da Nachbarländer --> Annahme, dass Preise günstiger:\n",
    "\n",
    "\"el_min\": [0,0,0,0],\n",
    "\"el_max\": [1000,1000,1000,1000],"
   ]
  },
  {
   "cell_type": "markdown",
   "metadata": {},
   "source": []
  },
  {
   "cell_type": "markdown",
   "metadata": {},
   "source": []
  },
  {
   "cell_type": "markdown",
   "metadata": {},
   "source": [
    "\"is\": [0, 0.95, 0.95, 0.95], NACHSCHAUEN + QUELLEN ORDENTLICH BEARBEITEN "
   ]
  },
  {
   "cell_type": "markdown",
   "metadata": {},
   "source": [
    "Der Preis für ein Kilogramm Milch lag in Deutschland im April 2024 bei durchschnittlich rund 45,9 Cent, den die abnehmenden Molkereien an die Milchbauern zahlten. Je nach Geschäftsstruktur, Region und Jahreszeit zahlen die Molkereien jedoch individuelle Preise an die Landwirte aus, sodass im Milchpreis Unterschiede entstehen können. Die Abrechnung von Milch in der Landwirtschaft erfolgt stets in Kilogramm, doch der Lebensmittelhandel bietet Milch meist in Literverpackungen an – ein Liter Milch entspricht etwa 1,03 Kilogramm.\n",
    "https://de.statista.com/statistik/daten/studie/380546/umfrage/preis-von-kuhmilch-in-deutschland/"
   ]
  },
  {
   "cell_type": "markdown",
   "metadata": {},
   "source": [
    "Produktion jährlich rund 1,7 Milliarden kg --> 1,7 Millionenn Tonnen Milch: Quelle; https://www.sachsenmilch.de/ueber-uns/unsere-molkerei"
   ]
  },
  {
   "cell_type": "markdown",
   "metadata": {},
   "source": []
  },
  {
   "cell_type": "markdown",
   "metadata": {},
   "source": [
    "Nachfrage nach Produkten: \n",
    "Ein Bundesbürger verzehrt im Jahr...\n",
    "... 49,5 Kilogramm Konsummilch ... 25,1 Kilogramm Käse\n",
    "... 15,1 Kilogramm Joghurt\n",
    "... 5,8 Kilogramm Butter\n",
    "\n",
    "\n",
    "155 milchverarbeitende Unternehmen mit 39.131 Beschäftigen*...\n",
    "... erwirtschaften einen Umsatz von 27,0 Mrd. Euro...\n",
    "... und verarbeiten 31,7 Millionen Tonnen Milch pro Jahr zu... ... 4,5 Millionen Tonnen Konsummilch\n",
    "... 2,4 Millionen Tonnen Käse1)\n",
    "... 497.100 Tonnen Butter2)\n",
    "... 554.400 Tonnen Sahne\n",
    "... 392.800 Tonnen Magermilchpulver\n",
    "\n",
    "Quelle: \n",
    "https://milchindustrie.de/wp-content/uploads/2020/09/Fakten-Milch-September-2020.pdf\n",
    "https://milchindustrie.de/wp-content/uploads/2023/09/ZahlenDatenFakten_2023_neu.pdf\n"
   ]
  }
 ],
 "metadata": {
  "kernelspec": {
   "display_name": "work",
   "language": "python",
   "name": "python3"
  },
  "language_info": {
   "codemirror_mode": {
    "name": "ipython",
    "version": 3
   },
   "file_extension": ".py",
   "mimetype": "text/x-python",
   "name": "python",
   "nbconvert_exporter": "python",
   "pygments_lexer": "ipython3",
   "version": "3.11.4"
  }
 },
 "nbformat": 4,
 "nbformat_minor": 2
}
